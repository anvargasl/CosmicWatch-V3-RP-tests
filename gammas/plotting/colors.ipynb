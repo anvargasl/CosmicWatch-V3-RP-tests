{
 "cells": [
  {
   "cell_type": "code",
   "execution_count": 1,
   "metadata": {},
   "outputs": [
    {
     "name": "stdout",
     "output_type": "stream",
     "text": [
      "['tab:blue', 'tab:orange', 'tab:green', 'tab:red', 'tab:purple', 'tab:brown', 'tab:pink', 'tab:gray', 'tab:olive', 'tab:cyan']\n",
      "tab:cyan\n"
     ]
    }
   ],
   "source": [
    "import matplotlib as mpl\n",
    "import json\n",
    "\n",
    "spectra_folder = \"spectra/\"\n",
    "data_folder = \"2024-04-30/\"\n",
    "\n",
    "with open(\"../data/\"+data_folder+spectra_folder+\"calibration.json\", \"r\") as infile:\n",
    "    calibration = json.load(infile)\n",
    "\n",
    "#list of isotopes\n",
    "prefixes = calibration[\"prefixes\"]\n",
    "#\"name\" of background file\n",
    "prefix_bkgd = calibration[\"prefix_bkgd\"]\n",
    "\n",
    "color_list = list(mpl.colors.TABLEAU_COLORS.keys())\n",
    "print(color_list)\n",
    "#color_bkgd = color_list[-1]\n",
    "#color_tab = {p:c for (p,c) in zip(prefixes,color_list[0:len(prefixes)])}\n",
    "#print(color_tab)\n",
    "#color_tab = {'Co60': 'tab:blue', 'Na22': 'tab:orange', 'Cs137': 'tab:green'}\n",
    "\n",
    "colors = calibration[\"colors\"]\n",
    "fit_colors = calibration[\"fit_colors\"]\n",
    "\n",
    "print(calibration[\"color_bkgd\"])"
   ]
  }
 ],
 "metadata": {
  "kernelspec": {
   "display_name": "Python 3",
   "language": "python",
   "name": "python3"
  },
  "language_info": {
   "codemirror_mode": {
    "name": "ipython",
    "version": 3
   },
   "file_extension": ".py",
   "mimetype": "text/x-python",
   "name": "python",
   "nbconvert_exporter": "python",
   "pygments_lexer": "ipython3",
   "version": "3.11.9"
  }
 },
 "nbformat": 4,
 "nbformat_minor": 2
}
